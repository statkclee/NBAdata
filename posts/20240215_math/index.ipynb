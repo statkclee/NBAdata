{
  "cells": [
    {
      "cell_type": "raw",
      "metadata": {},
      "source": [
        "---\n",
        "title: \"수학문제 풀이 546\"\n",
        "author: \"아빠\"\n",
        "date: \"2024-02-10\"\n",
        "categories: [수학, 중3, 대수]\n",
        "editor_options: \n",
        "  chunk_output_type: console\n",
        "---"
      ],
      "id": "91ec39e6"
    },
    {
      "cell_type": "markdown",
      "metadata": {},
      "source": [
        "# 문제\n",
        "\n",
        "다음 수학문제를 푸세요.\n",
        "\n",
        "\n",
        "![수학문제](problem.jpg)\n",
        "\n",
        "# 수작업 풀이\n",
        "\n",
        "1. 첫번째 다항식을 인수분해한다.\n",
        "1. 두번재 다항식을 인수분해한다.\n",
        "1. $a$, $b$ 값을 구한다.\n",
        "1. $a - b$ 값을 구한다.\n",
        "\n",
        "![](solution.jpg)\n",
        "\n",
        "# 컴퓨터 풀이\n",
        "\n",
        "## 첫번째 다항식\n"
      ],
      "id": "dd58af4f"
    },
    {
      "cell_type": "code",
      "metadata": {},
      "source": [
        "from sympy import symbols, factor\n",
        "\n",
        "# Define the variable\n",
        "x = symbols('x')\n",
        "\n",
        "# Define the polynomials\n",
        "polynomial1 = 9*x**2 - 1\n",
        "polynomial2 = 3*x**2 + 2*x - 1\n",
        "\n",
        "# Factorize the polynomials\n",
        "factorized1 = factor(polynomial1)\n",
        "factorized2 = factor(polynomial2)\n",
        "\n",
        "factorized1, factorized2"
      ],
      "id": "fa315b34",
      "execution_count": null,
      "outputs": []
    },
    {
      "cell_type": "markdown",
      "metadata": {},
      "source": [
        "## 두번째 다항식\n"
      ],
      "id": "90b27e54"
    },
    {
      "cell_type": "code",
      "metadata": {},
      "source": [
        "from sympy import symbols, factor\n",
        "\n",
        "# Define the variable\n",
        "x = symbols('x')\n",
        "\n",
        "# Define the polynomials\n",
        "polynomial3 = x**2 + 5*x - 6\n",
        "polynomial4 = 5*x**2 - 3*x - 2\n",
        "\n",
        "# Factorize the polynomials\n",
        "factorized3 = factor(polynomial3)\n",
        "factorized4 = factor(polynomial4)\n",
        "\n",
        "factorized3, factorized4"
      ],
      "id": "22a3658a",
      "execution_count": null,
      "outputs": []
    },
    {
      "cell_type": "markdown",
      "metadata": {},
      "source": [
        "## $a$, $b$ 값\n",
        "\n",
        "따라서, $a = 3$, $b = -1$ 이기 때문에 $3 - (-1) = 4$ 다.\n",
        "\n",
        ":::{.callout-note}\n",
        "### 공통인수 추출 코드\n"
      ],
      "id": "ce12351e"
    },
    {
      "cell_type": "code",
      "metadata": {},
      "source": [
        "# Extracting the common factor from factorized_polynomial3 and factorized_polynomial4\n",
        "common_factor = None\n",
        "\n",
        "# Check for common factors\n",
        "for factor in factorized3.args:\n",
        "    if factor in factorized4.args:\n",
        "        common_factor = factor\n",
        "        break\n",
        "\n",
        "common_factor"
      ],
      "id": "622a9c09",
      "execution_count": null,
      "outputs": []
    },
    {
      "cell_type": "markdown",
      "metadata": {},
      "source": [
        ":::"
      ],
      "id": "36ae7491"
    }
  ],
  "metadata": {
    "kernelspec": {
      "name": "python3",
      "language": "python",
      "display_name": "Python 3 (ipykernel)"
    }
  },
  "nbformat": 4,
  "nbformat_minor": 5
}